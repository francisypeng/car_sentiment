{
 "cells": [
  {
   "cell_type": "code",
   "execution_count": 1,
   "metadata": {},
   "outputs": [],
   "source": [
    "import pandas as pd\n",
    "import numpy as np"
   ]
  },
  {
   "cell_type": "code",
   "execution_count": 11,
   "metadata": {},
   "outputs": [
    {
     "name": "stderr",
     "output_type": "stream",
     "text": [
      "[nltk_data] Downloading package vader_lexicon to\n",
      "[nltk_data]     C:\\Users\\franc\\AppData\\Roaming\\nltk_data...\n"
     ]
    }
   ],
   "source": [
    "import nltk\n",
    "nltk.download('vader_lexicon')\n",
    "from nltk.sentiment import SentimentIntensityAnalyzer"
   ]
  },
  {
   "cell_type": "code",
   "execution_count": 4,
   "metadata": {},
   "outputs": [],
   "source": [
    "df = pd.read_csv('thread_df/thread_df_88_42.csv', index_col=0)"
   ]
  },
  {
   "cell_type": "code",
   "execution_count": 5,
   "metadata": {},
   "outputs": [
    {
     "data": {
      "text/html": [
       "<div>\n",
       "<style scoped>\n",
       "    .dataframe tbody tr th:only-of-type {\n",
       "        vertical-align: middle;\n",
       "    }\n",
       "\n",
       "    .dataframe tbody tr th {\n",
       "        vertical-align: top;\n",
       "    }\n",
       "\n",
       "    .dataframe thead th {\n",
       "        text-align: right;\n",
       "    }\n",
       "</style>\n",
       "<table border=\"1\" class=\"dataframe\">\n",
       "  <thead>\n",
       "    <tr style=\"text-align: right;\">\n",
       "      <th></th>\n",
       "      <th>position</th>\n",
       "      <th>user</th>\n",
       "      <th>comment</th>\n",
       "      <th>bid</th>\n",
       "      <th>upvote</th>\n",
       "      <th>rep</th>\n",
       "      <th>seller</th>\n",
       "      <th>bidder</th>\n",
       "      <th>verified</th>\n",
       "    </tr>\n",
       "  </thead>\n",
       "  <tbody>\n",
       "    <tr>\n",
       "      <th>0</th>\n",
       "      <td>1</td>\n",
       "      <td>moonvortex</td>\n",
       "      <td>Beautiful car</td>\n",
       "      <td>NaN</td>\n",
       "      <td>0\\nReply\\nFlag as inappropriate</td>\n",
       "      <td>Reputation Icon1</td>\n",
       "      <td>0</td>\n",
       "      <td>0</td>\n",
       "      <td>1</td>\n",
       "    </tr>\n",
       "    <tr>\n",
       "      <th>1</th>\n",
       "      <td>2</td>\n",
       "      <td>Saab95</td>\n",
       "      <td>Returning to this. Like everyone suspected, it...</td>\n",
       "      <td>NaN</td>\n",
       "      <td>2\\nReply\\nFlag as inappropriate</td>\n",
       "      <td>Reputation Icon1k</td>\n",
       "      <td>0</td>\n",
       "      <td>0</td>\n",
       "      <td>1</td>\n",
       "    </tr>\n",
       "    <tr>\n",
       "      <th>2</th>\n",
       "      <td>3</td>\n",
       "      <td>ohyourthatguy</td>\n",
       "      <td>That price was a steal at $190k</td>\n",
       "      <td>NaN</td>\n",
       "      <td>2\\nReply\\nFlag as inappropriate</td>\n",
       "      <td>Reputation Icon159</td>\n",
       "      <td>0</td>\n",
       "      <td>0</td>\n",
       "      <td>0</td>\n",
       "    </tr>\n",
       "    <tr>\n",
       "      <th>3</th>\n",
       "      <td>4</td>\n",
       "      <td>knowledge1213</td>\n",
       "      <td>Although miles are high - this is a steal of a...</td>\n",
       "      <td>NaN</td>\n",
       "      <td>0\\nReply\\nFlag as inappropriate</td>\n",
       "      <td>Reputation Icon14</td>\n",
       "      <td>0</td>\n",
       "      <td>0</td>\n",
       "      <td>0</td>\n",
       "    </tr>\n",
       "    <tr>\n",
       "      <th>4</th>\n",
       "      <td>5</td>\n",
       "      <td>E30M3allday</td>\n",
       "      <td>Re: 2266juan\\nNice! If you don't mind us askin...</td>\n",
       "      <td>NaN</td>\n",
       "      <td>13\\nReply\\nFlag as inappropriate</td>\n",
       "      <td>Reputation Icon710</td>\n",
       "      <td>0</td>\n",
       "      <td>0</td>\n",
       "      <td>0</td>\n",
       "    </tr>\n",
       "    <tr>\n",
       "      <th>...</th>\n",
       "      <td>...</td>\n",
       "      <td>...</td>\n",
       "      <td>...</td>\n",
       "      <td>...</td>\n",
       "      <td>...</td>\n",
       "      <td>...</td>\n",
       "      <td>...</td>\n",
       "      <td>...</td>\n",
       "      <td>...</td>\n",
       "    </tr>\n",
       "    <tr>\n",
       "      <th>470</th>\n",
       "      <td>471</td>\n",
       "      <td>shauto</td>\n",
       "      <td>Hey everyone im Lawrence the car has been grea...</td>\n",
       "      <td>NaN</td>\n",
       "      <td>3\\nReply\\nFlag as inappropriate</td>\n",
       "      <td>Reputation Icon150</td>\n",
       "      <td>1</td>\n",
       "      <td>0</td>\n",
       "      <td>0</td>\n",
       "    </tr>\n",
       "    <tr>\n",
       "      <th>471</th>\n",
       "      <td>472</td>\n",
       "      <td>shauto</td>\n",
       "      <td>Re: BonzoBonanza\\nIs that your offer?</td>\n",
       "      <td>NaN</td>\n",
       "      <td>6\\nReply\\nFlag as inappropriate</td>\n",
       "      <td>Reputation Icon150</td>\n",
       "      <td>1</td>\n",
       "      <td>0</td>\n",
       "      <td>0</td>\n",
       "    </tr>\n",
       "    <tr>\n",
       "      <th>472</th>\n",
       "      <td>473</td>\n",
       "      <td>BonzoBonanza</td>\n",
       "      <td>The Huracan. Outstanding sports car.</td>\n",
       "      <td>NaN</td>\n",
       "      <td>1\\nReply\\nFlag as inappropriate</td>\n",
       "      <td>Reputation Icon571</td>\n",
       "      <td>0</td>\n",
       "      <td>0</td>\n",
       "      <td>0</td>\n",
       "    </tr>\n",
       "    <tr>\n",
       "      <th>473</th>\n",
       "      <td>474</td>\n",
       "      <td>mtomy</td>\n",
       "      <td>Beautiful car, love the colour</td>\n",
       "      <td>NaN</td>\n",
       "      <td>2\\nReply\\nFlag as inappropriate</td>\n",
       "      <td>Reputation Icon4</td>\n",
       "      <td>0</td>\n",
       "      <td>0</td>\n",
       "      <td>0</td>\n",
       "    </tr>\n",
       "    <tr>\n",
       "      <th>474</th>\n",
       "      <td>475</td>\n",
       "      <td>BonzoBonanza</td>\n",
       "      <td>200K, here we come!</td>\n",
       "      <td>NaN</td>\n",
       "      <td>2\\nReply\\nFlag as inappropriate</td>\n",
       "      <td>Reputation Icon571</td>\n",
       "      <td>0</td>\n",
       "      <td>0</td>\n",
       "      <td>0</td>\n",
       "    </tr>\n",
       "  </tbody>\n",
       "</table>\n",
       "<p>475 rows × 9 columns</p>\n",
       "</div>"
      ],
      "text/plain": [
       "     position           user  \\\n",
       "0           1     moonvortex   \n",
       "1           2         Saab95   \n",
       "2           3  ohyourthatguy   \n",
       "3           4  knowledge1213   \n",
       "4           5    E30M3allday   \n",
       "..        ...            ...   \n",
       "470       471         shauto   \n",
       "471       472         shauto   \n",
       "472       473   BonzoBonanza   \n",
       "473       474          mtomy   \n",
       "474       475   BonzoBonanza   \n",
       "\n",
       "                                               comment  bid  \\\n",
       "0                                        Beautiful car  NaN   \n",
       "1    Returning to this. Like everyone suspected, it...  NaN   \n",
       "2                      That price was a steal at $190k  NaN   \n",
       "3    Although miles are high - this is a steal of a...  NaN   \n",
       "4    Re: 2266juan\\nNice! If you don't mind us askin...  NaN   \n",
       "..                                                 ...  ...   \n",
       "470  Hey everyone im Lawrence the car has been grea...  NaN   \n",
       "471              Re: BonzoBonanza\\nIs that your offer?  NaN   \n",
       "472               The Huracan. Outstanding sports car.  NaN   \n",
       "473                     Beautiful car, love the colour  NaN   \n",
       "474                                200K, here we come!  NaN   \n",
       "\n",
       "                               upvote                 rep  seller  bidder  \\\n",
       "0     0\\nReply\\nFlag as inappropriate    Reputation Icon1       0       0   \n",
       "1     2\\nReply\\nFlag as inappropriate   Reputation Icon1k       0       0   \n",
       "2     2\\nReply\\nFlag as inappropriate  Reputation Icon159       0       0   \n",
       "3     0\\nReply\\nFlag as inappropriate   Reputation Icon14       0       0   \n",
       "4    13\\nReply\\nFlag as inappropriate  Reputation Icon710       0       0   \n",
       "..                                ...                 ...     ...     ...   \n",
       "470   3\\nReply\\nFlag as inappropriate  Reputation Icon150       1       0   \n",
       "471   6\\nReply\\nFlag as inappropriate  Reputation Icon150       1       0   \n",
       "472   1\\nReply\\nFlag as inappropriate  Reputation Icon571       0       0   \n",
       "473   2\\nReply\\nFlag as inappropriate    Reputation Icon4       0       0   \n",
       "474   2\\nReply\\nFlag as inappropriate  Reputation Icon571       0       0   \n",
       "\n",
       "     verified  \n",
       "0           1  \n",
       "1           1  \n",
       "2           0  \n",
       "3           0  \n",
       "4           0  \n",
       "..        ...  \n",
       "470         0  \n",
       "471         0  \n",
       "472         0  \n",
       "473         0  \n",
       "474         0  \n",
       "\n",
       "[475 rows x 9 columns]"
      ]
     },
     "execution_count": 5,
     "metadata": {},
     "output_type": "execute_result"
    }
   ],
   "source": [
    "df"
   ]
  },
  {
   "cell_type": "code",
   "execution_count": 6,
   "metadata": {},
   "outputs": [],
   "source": [
    "comments = df.dropna(subset=['comment'])"
   ]
  },
  {
   "cell_type": "code",
   "execution_count": 16,
   "metadata": {},
   "outputs": [
    {
     "data": {
      "text/plain": [
       "'Beautiful car'"
      ]
     },
     "execution_count": 16,
     "metadata": {},
     "output_type": "execute_result"
    }
   ],
   "source": [
    "testc = comments.iloc[0,2]\n",
    "testc"
   ]
  },
  {
   "cell_type": "code",
   "execution_count": 17,
   "metadata": {},
   "outputs": [],
   "source": [
    "sia = SentimentIntensityAnalyzer()\n",
    "sentiment = sia.polarity_scores(testc)"
   ]
  },
  {
   "cell_type": "code",
   "execution_count": 18,
   "metadata": {},
   "outputs": [
    {
     "data": {
      "text/plain": [
       "0.5994"
      ]
     },
     "execution_count": 18,
     "metadata": {},
     "output_type": "execute_result"
    }
   ],
   "source": [
    "sentiment['compound']"
   ]
  },
  {
   "cell_type": "code",
   "execution_count": null,
   "metadata": {},
   "outputs": [],
   "source": []
  }
 ],
 "metadata": {
  "kernelspec": {
   "display_name": "base",
   "language": "python",
   "name": "python3"
  },
  "language_info": {
   "codemirror_mode": {
    "name": "ipython",
    "version": 3
   },
   "file_extension": ".py",
   "mimetype": "text/x-python",
   "name": "python",
   "nbconvert_exporter": "python",
   "pygments_lexer": "ipython3",
   "version": "3.8.5"
  },
  "orig_nbformat": 4,
  "vscode": {
   "interpreter": {
    "hash": "e03b612d84ba21ce95ed447e81b3062e1eb99b56c6d885cdab4aaa12f1b8e240"
   }
  }
 },
 "nbformat": 4,
 "nbformat_minor": 2
}
