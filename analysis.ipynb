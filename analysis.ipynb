{
 "cells": [
  {
   "cell_type": "code",
   "execution_count": 28,
   "metadata": {},
   "outputs": [],
   "source": [
    "import pandas as pd\n",
    "import numpy as np\n",
    "import statsmodels.api as sm\n",
    "import statsmodels.formula.api as smf\n",
    "pd.set_option('display.max_columns', None)"
   ]
  },
  {
   "cell_type": "code",
   "execution_count": 2,
   "metadata": {},
   "outputs": [],
   "source": [
    "df = pd.read_csv('full_df.csv', index_col=0)"
   ]
  },
  {
   "cell_type": "code",
   "execution_count": 3,
   "metadata": {},
   "outputs": [],
   "source": [
    "# get year variable\n",
    "df['year'] = df['title'].astype(str).str[0:4]\n",
    "# get year make model variable\n",
    "df['year_make_model'] = df['year'] + ' ' + df['make'] + ' ' + df['model']\n",
    "# get clean status\n",
    "df['title_status'] = df['title.1'].astype(str).str[0:5] == 'Clean'\n",
    "df['title_status'] = df['title_status'].astype(int)\n",
    "df['end_bid_new'] = df['end_bid'].str.replace(',', '').str.extract('(\\d+)')\n",
    "df['num_views_new'] = df['num_views'].str.replace(',', '')\n",
    "df['num_photos_new'] = df['num_photos'].str.extract('(\\d+)')\n",
    "df['milage'] = df['milage'].str.replace(',', '').str.extract('(\\d+)')\n",
    "df['engine'] = df['engine'].str.lower().str.replace(' ', '').str.replace('-','').str.replace('.','')\n",
    "df['drivetrain'] = df['drivetrain'].str.lower().str.replace(' ', '').str.replace('-', '')\n",
    "df['transmission'] = df['transmission'].str.lower().str.replace(' ','').str.replace('-','')"
   ]
  },
  {
   "cell_type": "code",
   "execution_count": 4,
   "metadata": {},
   "outputs": [],
   "source": [
    "working_df = df.drop(columns=['title', 'subtitle', 'VIN', 'location', 'seller', 'num_views', 'end_bid' , 'year', 'make', 'model', 'end_date', 'num_photos', 'title.1', 'e_color', 'i_color'])"
   ]
  },
  {
   "cell_type": "code",
   "execution_count": 5,
   "metadata": {},
   "outputs": [],
   "source": [
    "trans_dummy = pd.get_dummies(working_df['transmission'])\n",
    "trans_dummy['manual(5speed)'] = trans_dummy['manual(5speed)'] + trans_dummy['manual(5speedmanual)']\n",
    "trans_dummy.drop(columns='manual(5speedmanual)', inplace = True)\n",
    "trans_dummy['automatic(5speed)'] = trans_dummy['automatic(5s[eed)'] + trans_dummy['automatic(5speed)']\n",
    "trans_dummy.drop(columns='automatic(5s[eed)', inplace = True)"
   ]
  },
  {
   "cell_type": "code",
   "execution_count": 6,
   "metadata": {},
   "outputs": [],
   "source": [
    "reg_df = working_df.join(trans_dummy)\n",
    "reg_df.drop(columns='transmission', inplace = True)"
   ]
  },
  {
   "cell_type": "code",
   "execution_count": 7,
   "metadata": {},
   "outputs": [
    {
     "data": {
      "text/html": [
       "<div>\n",
       "<style scoped>\n",
       "    .dataframe tbody tr th:only-of-type {\n",
       "        vertical-align: middle;\n",
       "    }\n",
       "\n",
       "    .dataframe tbody tr th {\n",
       "        vertical-align: top;\n",
       "    }\n",
       "\n",
       "    .dataframe thead th {\n",
       "        text-align: right;\n",
       "    }\n",
       "</style>\n",
       "<table border=\"1\" class=\"dataframe\">\n",
       "  <thead>\n",
       "    <tr style=\"text-align: right;\">\n",
       "      <th></th>\n",
       "      <th>id</th>\n",
       "      <th>reserve</th>\n",
       "      <th>num_bids</th>\n",
       "      <th>num_com</th>\n",
       "      <th>milage</th>\n",
       "      <th>engine</th>\n",
       "      <th>drivetrain</th>\n",
       "      <th>transmission</th>\n",
       "      <th>body_style</th>\n",
       "      <th>seller_type</th>\n",
       "      <th>num_highlights</th>\n",
       "      <th>num_equipment</th>\n",
       "      <th>num_modifications</th>\n",
       "      <th>num_known_flaws</th>\n",
       "      <th>num_service_history</th>\n",
       "      <th>num_other_items</th>\n",
       "      <th>num_owner_history</th>\n",
       "      <th>num_seller_notes</th>\n",
       "      <th>num_videos</th>\n",
       "      <th>sold</th>\n",
       "      <th>sentiment_score</th>\n",
       "      <th>year_make_model</th>\n",
       "      <th>title_status</th>\n",
       "      <th>end_bid_new</th>\n",
       "      <th>num_views_new</th>\n",
       "      <th>num_photos_new</th>\n",
       "    </tr>\n",
       "  </thead>\n",
       "  <tbody>\n",
       "    <tr>\n",
       "      <th>0</th>\n",
       "      <td>1_1</td>\n",
       "      <td>1</td>\n",
       "      <td>16</td>\n",
       "      <td>48</td>\n",
       "      <td>38900</td>\n",
       "      <td>55lturbochargedv8</td>\n",
       "      <td>rearwheeldrive</td>\n",
       "      <td>automatic(7speed)</td>\n",
       "      <td>Wagon</td>\n",
       "      <td>Private Party</td>\n",
       "      <td>6</td>\n",
       "      <td>13</td>\n",
       "      <td>16</td>\n",
       "      <td>4</td>\n",
       "      <td>2</td>\n",
       "      <td>10</td>\n",
       "      <td>1</td>\n",
       "      <td>2</td>\n",
       "      <td>2.0</td>\n",
       "      <td>1</td>\n",
       "      <td>0.379978</td>\n",
       "      <td>2012 Mercedes-Benz E63 AMG</td>\n",
       "      <td>1</td>\n",
       "      <td>49500</td>\n",
       "      <td>17729</td>\n",
       "      <td>129</td>\n",
       "    </tr>\n",
       "    <tr>\n",
       "      <th>1</th>\n",
       "      <td>1_2</td>\n",
       "      <td>0</td>\n",
       "      <td>15</td>\n",
       "      <td>63</td>\n",
       "      <td>29400</td>\n",
       "      <td>90lturbodieselv6</td>\n",
       "      <td>rearwheeldrive</td>\n",
       "      <td>automatic(4speed)</td>\n",
       "      <td>Truck</td>\n",
       "      <td>Private Party</td>\n",
       "      <td>5</td>\n",
       "      <td>10</td>\n",
       "      <td>5</td>\n",
       "      <td>7</td>\n",
       "      <td>0</td>\n",
       "      <td>3</td>\n",
       "      <td>1</td>\n",
       "      <td>2</td>\n",
       "      <td>2.0</td>\n",
       "      <td>1</td>\n",
       "      <td>0.179144</td>\n",
       "      <td>1986 E-One Pumper</td>\n",
       "      <td>1</td>\n",
       "      <td>7877</td>\n",
       "      <td>24166</td>\n",
       "      <td>125</td>\n",
       "    </tr>\n",
       "    <tr>\n",
       "      <th>2</th>\n",
       "      <td>1_3</td>\n",
       "      <td>1</td>\n",
       "      <td>19</td>\n",
       "      <td>31</td>\n",
       "      <td>123800</td>\n",
       "      <td>20li6</td>\n",
       "      <td>rearwheeldrive</td>\n",
       "      <td>manual(5speed)</td>\n",
       "      <td>Wagon</td>\n",
       "      <td>Private Party</td>\n",
       "      <td>5</td>\n",
       "      <td>10</td>\n",
       "      <td>3</td>\n",
       "      <td>5</td>\n",
       "      <td>10</td>\n",
       "      <td>2</td>\n",
       "      <td>1</td>\n",
       "      <td>2</td>\n",
       "      <td>2.0</td>\n",
       "      <td>1</td>\n",
       "      <td>0.262188</td>\n",
       "      <td>1996 BMW 320i</td>\n",
       "      <td>1</td>\n",
       "      <td>14300</td>\n",
       "      <td>6379</td>\n",
       "      <td>99</td>\n",
       "    </tr>\n",
       "  </tbody>\n",
       "</table>\n",
       "</div>"
      ],
      "text/plain": [
       "    id  reserve  num_bids  num_com  milage             engine      drivetrain  \\\n",
       "0  1_1        1        16       48   38900  55lturbochargedv8  rearwheeldrive   \n",
       "1  1_2        0        15       63   29400   90lturbodieselv6  rearwheeldrive   \n",
       "2  1_3        1        19       31  123800              20li6  rearwheeldrive   \n",
       "\n",
       "        transmission body_style    seller_type  num_highlights  num_equipment  \\\n",
       "0  automatic(7speed)      Wagon  Private Party               6             13   \n",
       "1  automatic(4speed)      Truck  Private Party               5             10   \n",
       "2     manual(5speed)      Wagon  Private Party               5             10   \n",
       "\n",
       "   num_modifications  num_known_flaws  num_service_history  num_other_items  \\\n",
       "0                 16                4                    2               10   \n",
       "1                  5                7                    0                3   \n",
       "2                  3                5                   10                2   \n",
       "\n",
       "   num_owner_history  num_seller_notes  num_videos  sold  sentiment_score  \\\n",
       "0                  1                 2         2.0     1         0.379978   \n",
       "1                  1                 2         2.0     1         0.179144   \n",
       "2                  1                 2         2.0     1         0.262188   \n",
       "\n",
       "              year_make_model  title_status end_bid_new num_views_new  \\\n",
       "0  2012 Mercedes-Benz E63 AMG             1       49500         17729   \n",
       "1           1986 E-One Pumper             1        7877         24166   \n",
       "2               1996 BMW 320i             1       14300          6379   \n",
       "\n",
       "  num_photos_new  \n",
       "0            129  \n",
       "1            125  \n",
       "2             99  "
      ]
     },
     "execution_count": 7,
     "metadata": {},
     "output_type": "execute_result"
    }
   ],
   "source": [
    "working_df.head(3)"
   ]
  },
  {
   "cell_type": "code",
   "execution_count": 8,
   "metadata": {},
   "outputs": [],
   "source": [
    "model_dummy = pd.get_dummies(working_df['year_make_model'])"
   ]
  },
  {
   "cell_type": "code",
   "execution_count": 9,
   "metadata": {},
   "outputs": [],
   "source": [
    "reg_df = working_df.join(model_dummy)\n",
    "reg_df.drop(columns = ['engine', 'drivetrain', 'transmission', 'body_style', 'seller_type', 'year_make_model'], inplace= True)"
   ]
  },
  {
   "cell_type": "code",
   "execution_count": 10,
   "metadata": {},
   "outputs": [],
   "source": [
    "first_col = reg_df.pop('end_bid_new')"
   ]
  },
  {
   "cell_type": "code",
   "execution_count": 11,
   "metadata": {},
   "outputs": [
    {
     "data": {
      "text/plain": [
       "0        49500\n",
       "1         7877\n",
       "2        14300\n",
       "3        52777\n",
       "4         8800\n",
       "         ...  \n",
       "8400     21000\n",
       "8401    108000\n",
       "8402     11000\n",
       "8403     20750\n",
       "8404     63000\n",
       "Name: end_bid_new, Length: 8405, dtype: object"
      ]
     },
     "execution_count": 11,
     "metadata": {},
     "output_type": "execute_result"
    }
   ],
   "source": [
    "first_col"
   ]
  },
  {
   "cell_type": "code",
   "execution_count": 12,
   "metadata": {},
   "outputs": [],
   "source": [
    "reg_df.insert(0, 'end_bid_new', first_col)"
   ]
  },
  {
   "cell_type": "code",
   "execution_count": 13,
   "metadata": {},
   "outputs": [],
   "source": [
    "reg_df.drop(columns='id', inplace = True)"
   ]
  },
  {
   "cell_type": "code",
   "execution_count": 14,
   "metadata": {},
   "outputs": [],
   "source": [
    "reg_df.dropna(inplace = True)"
   ]
  },
  {
   "cell_type": "code",
   "execution_count": 15,
   "metadata": {},
   "outputs": [
    {
     "data": {
      "text/plain": [
       "end_bid_new                    object\n",
       "reserve                         int64\n",
       "num_bids                        int64\n",
       "num_com                         int64\n",
       "milage                         object\n",
       "                                ...  \n",
       "2023 Genesis GV60               uint8\n",
       "2023 Land Rover Defender        uint8\n",
       "2023 Land Rover Range Rover     uint8\n",
       "2023 Nissan Z                   uint8\n",
       "2023 Toyota Tundra              uint8\n",
       "Length: 3313, dtype: object"
      ]
     },
     "execution_count": 15,
     "metadata": {},
     "output_type": "execute_result"
    }
   ],
   "source": [
    "reg_df.dtypes"
   ]
  },
  {
   "cell_type": "code",
   "execution_count": 16,
   "metadata": {},
   "outputs": [
    {
     "name": "stdout",
     "output_type": "stream",
     "text": [
      "<class 'pandas.core.frame.DataFrame'>\n",
      "Int64Index: 8392 entries, 0 to 8404\n",
      "Columns: 3313 entries, end_bid_new to 2023 Toyota Tundra\n",
      "dtypes: float64(2), int32(1), int64(16), uint8(3294)\n",
      "memory usage: 27.6 MB\n"
     ]
    }
   ],
   "source": [
    "reg_df.apply(pd.to_numeric).info()"
   ]
  },
  {
   "cell_type": "code",
   "execution_count": 18,
   "metadata": {},
   "outputs": [],
   "source": [
    "reg_df = reg_df.apply(pd.to_numeric)"
   ]
  },
  {
   "cell_type": "code",
   "execution_count": 20,
   "metadata": {},
   "outputs": [],
   "source": [
    "y = reg_df['end_bid_new']\n",
    "x = reg_df.iloc[:, 1:]"
   ]
  },
  {
   "cell_type": "code",
   "execution_count": 21,
   "metadata": {},
   "outputs": [],
   "source": [
    "x = sm.add_constant(x)"
   ]
  },
  {
   "cell_type": "code",
   "execution_count": 23,
   "metadata": {},
   "outputs": [],
   "source": [
    "model = sm.OLS(y, x)"
   ]
  },
  {
   "cell_type": "code",
   "execution_count": 24,
   "metadata": {},
   "outputs": [],
   "source": [
    "res = model.fit()"
   ]
  },
  {
   "cell_type": "code",
   "execution_count": 29,
   "metadata": {},
   "outputs": [],
   "source": [
    "model2 = smf.ols(formula = 'end_bid_new ~ reserve + num_bids + num_com + milage + num_highlights + num_equipment + num_modifications + num_known_flaws + num_service_history + num_other_items + num_videos + sold + sentiment_score + title_status + num_views_new + num_photos_new', data = reg_df).fit()"
   ]
  },
  {
   "cell_type": "code",
   "execution_count": 31,
   "metadata": {},
   "outputs": [
    {
     "name": "stdout",
     "output_type": "stream",
     "text": [
      "                            OLS Regression Results                            \n",
      "==============================================================================\n",
      "Dep. Variable:            end_bid_new   R-squared:                       0.477\n",
      "Model:                            OLS   Adj. R-squared:                  0.476\n",
      "Method:                 Least Squares   F-statistic:                     476.8\n",
      "Date:                Thu, 19 Jan 2023   Prob (F-statistic):               0.00\n",
      "Time:                        22:13:46   Log-Likelihood:                -96570.\n",
      "No. Observations:                8392   AIC:                         1.932e+05\n",
      "Df Residuals:                    8375   BIC:                         1.933e+05\n",
      "Df Model:                          16                                         \n",
      "Covariance Type:            nonrobust                                         \n",
      "=======================================================================================\n",
      "                          coef    std err          t      P>|t|      [0.025      0.975]\n",
      "---------------------------------------------------------------------------------------\n",
      "Intercept            1.702e+04   3189.922      5.336      0.000    1.08e+04    2.33e+04\n",
      "reserve              9613.0868    662.663     14.507      0.000    8314.103    1.09e+04\n",
      "num_bids              -26.3385     20.645     -1.276      0.202     -66.808      14.131\n",
      "num_com                82.8702     12.822      6.463      0.000      57.735     108.005\n",
      "milage                 -0.1257      0.006    -20.286      0.000      -0.138      -0.114\n",
      "num_highlights      -1957.8466    323.105     -6.059      0.000   -2591.213   -1324.480\n",
      "num_equipment        1793.9077     68.446     26.209      0.000    1659.737    1928.079\n",
      "num_modifications     -12.3993     35.644     -0.348      0.728     -82.270      57.471\n",
      "num_known_flaws     -2048.0282     88.140    -23.236      0.000   -2220.805   -1875.252\n",
      "num_service_history  -259.1101     78.041     -3.320      0.001    -412.089    -106.131\n",
      "num_other_items       569.3406    131.539      4.328      0.000     311.492     827.189\n",
      "num_videos           -104.6712    128.110     -0.817      0.414    -355.799     146.457\n",
      "sold                -1522.9956    719.134     -2.118      0.034   -2932.675    -113.316\n",
      "sentiment_score     -5812.8146   2226.906     -2.610      0.009   -1.02e+04   -1447.528\n",
      "title_status         3353.8734   2288.129      1.466      0.143   -1131.426    7839.173\n",
      "num_views_new           1.4289      0.054     26.347      0.000       1.323       1.535\n",
      "num_photos_new         -3.0005      5.830     -0.515      0.607     -14.429       8.428\n",
      "==============================================================================\n",
      "Omnibus:                     6386.011   Durbin-Watson:                   1.979\n",
      "Prob(Omnibus):                  0.000   Jarque-Bera (JB):           280622.636\n",
      "Skew:                           3.231   Prob(JB):                         0.00\n",
      "Kurtosis:                      30.582   Cond. No.                     1.29e+06\n",
      "==============================================================================\n",
      "\n",
      "Notes:\n",
      "[1] Standard Errors assume that the covariance matrix of the errors is correctly specified.\n",
      "[2] The condition number is large, 1.29e+06. This might indicate that there are\n",
      "strong multicollinearity or other numerical problems.\n"
     ]
    }
   ],
   "source": [
    "print(model2.summary())"
   ]
  },
  {
   "cell_type": "code",
   "execution_count": null,
   "metadata": {},
   "outputs": [],
   "source": []
  }
 ],
 "metadata": {
  "kernelspec": {
   "display_name": "base",
   "language": "python",
   "name": "python3"
  },
  "language_info": {
   "codemirror_mode": {
    "name": "ipython",
    "version": 3
   },
   "file_extension": ".py",
   "mimetype": "text/x-python",
   "name": "python",
   "nbconvert_exporter": "python",
   "pygments_lexer": "ipython3",
   "version": "3.8.5"
  },
  "orig_nbformat": 4,
  "vscode": {
   "interpreter": {
    "hash": "e03b612d84ba21ce95ed447e81b3062e1eb99b56c6d885cdab4aaa12f1b8e240"
   }
  }
 },
 "nbformat": 4,
 "nbformat_minor": 2
}
