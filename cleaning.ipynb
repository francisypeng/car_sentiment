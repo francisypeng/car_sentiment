{
 "cells": [
  {
   "cell_type": "code",
   "execution_count": 1,
   "metadata": {},
   "outputs": [],
   "source": [
    "import pandas as pd\n",
    "import numpy as np\n",
    "import glob\n",
    "import os"
   ]
  },
  {
   "cell_type": "code",
   "execution_count": 2,
   "metadata": {},
   "outputs": [],
   "source": [
    "all_files = glob.glob(os.path.join('details_df', \"*.csv\"))"
   ]
  },
  {
   "cell_type": "code",
   "execution_count": 3,
   "metadata": {},
   "outputs": [],
   "source": [
    "df_out = pd.DataFrame(columns=['id', 'num_highlights', 'num_equipment', 'num_modifications', 'num_known_flaws', 'num_service_history', \n",
    "                    'num_other_items', 'num_owner_history', 'num_seller_notes', 'num_videos'])\n",
    "\n",
    "for file in all_files:\n",
    "    df = pd.read_csv(file, index_col=0)\n",
    "    id = file.replace('details_df\\\\details_df', '').replace('.csv','')\n",
    "    df_count = df.count()\n",
    "    df_out.loc[len(df_out.index)] = [id, df_count[1], df_count[2], df_count[3], df_count[4], df_count[5], df_count[6], df_count[7], df_count[8], df.iloc[0,9]]\n",
    "    "
   ]
  },
  {
   "cell_type": "code",
   "execution_count": 4,
   "metadata": {},
   "outputs": [],
   "source": [
    "df_out.fillna(0, inplace=True)\n",
    "df_basic = pd.read_csv('basic_df_full.csv', index_col=0)\n",
    "df_basic_detail = df_basic.merge(df_out, how='left', on='id')"
   ]
  },
  {
   "cell_type": "code",
   "execution_count": 5,
   "metadata": {},
   "outputs": [],
   "source": [
    "df_basic_detail['sold'] = df_basic_detail['end_bid'].str.contains('Sold for').astype(int)"
   ]
  },
  {
   "cell_type": "code",
   "execution_count": 7,
   "metadata": {},
   "outputs": [],
   "source": [
    "thread_sentiment = pd.read_csv('thread_sentiment_bert.csv', index_col=0)"
   ]
  },
  {
   "cell_type": "code",
   "execution_count": 8,
   "metadata": {},
   "outputs": [],
   "source": [
    "full_df = df_basic_detail.merge(thread_sentiment, how='left', on='id')"
   ]
  },
  {
   "cell_type": "code",
   "execution_count": 9,
   "metadata": {},
   "outputs": [],
   "source": [
    "full_df.to_csv('full_df_bert.csv')"
   ]
  },
  {
   "cell_type": "code",
   "execution_count": null,
   "metadata": {},
   "outputs": [],
   "source": []
  }
 ],
 "metadata": {
  "kernelspec": {
   "display_name": "base",
   "language": "python",
   "name": "python3"
  },
  "language_info": {
   "codemirror_mode": {
    "name": "ipython",
    "version": 3
   },
   "file_extension": ".py",
   "mimetype": "text/x-python",
   "name": "python",
   "nbconvert_exporter": "python",
   "pygments_lexer": "ipython3",
   "version": "3.8.5"
  },
  "orig_nbformat": 4,
  "vscode": {
   "interpreter": {
    "hash": "e03b612d84ba21ce95ed447e81b3062e1eb99b56c6d885cdab4aaa12f1b8e240"
   }
  }
 },
 "nbformat": 4,
 "nbformat_minor": 2
}
