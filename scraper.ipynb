{
 "cells": [
  {
   "cell_type": "code",
   "execution_count": 18,
   "metadata": {},
   "outputs": [],
   "source": [
    "import pandas as pd\n",
    "import numpy as np\n",
    "import xmltodict\n",
    "import requests\n",
    "from requests_html import HTMLSession\n",
    "from selenium.webdriver.common.keys import Keys\n",
    "from selenium.webdriver.common.by import By\n",
    "from selenium import webdriver\n",
    "from selenium.webdriver.chrome.service import Service as ChromeService\n",
    "from webdriver_manager.chrome import ChromeDriverManager\n",
    "from selenium.webdriver.support.ui import WebDriverWait\n",
    "from selenium.webdriver.support import expected_conditions as EC\n",
    "import time"
   ]
  },
  {
   "cell_type": "code",
   "execution_count": 2,
   "metadata": {},
   "outputs": [
    {
     "name": "stderr",
     "output_type": "stream",
     "text": [
      "[WDM] - Downloading:  84%|████████▍ | 5.30M/6.29M [00:00<00:00, 3.60MB/s]"
     ]
    }
   ],
   "source": [
    "driver = webdriver.Chrome(service=ChromeService(ChromeDriverManager().install()))"
   ]
  },
  {
   "cell_type": "code",
   "execution_count": 17,
   "metadata": {},
   "outputs": [],
   "source": [
    "driver.get(\"https://carsandbids.com/auctions/3qbOzbzy/2004-porsche-911-gt3\")"
   ]
  },
  {
   "cell_type": "code",
   "execution_count": 19,
   "metadata": {},
   "outputs": [],
   "source": [
    "lenOfPage = driver.execute_script(\"window.scrollTo(0, document.body.scrollHeight);var lenOfPage=document.body.scrollHeight;return lenOfPage;\")\n",
    "match=False\n",
    "while(match==False):\n",
    "    lastCount = lenOfPage\n",
    "    time.sleep(3)\n",
    "    lenOfPage = driver.execute_script(\"window.scrollTo(0, document.body.scrollHeight);var lenOfPage=document.body.scrollHeight;return lenOfPage;\")\n",
    "    if lastCount==lenOfPage:\n",
    "        match=True"
   ]
  },
  {
   "cell_type": "code",
   "execution_count": 20,
   "metadata": {},
   "outputs": [],
   "source": [
    "try:\n",
    "    main = WebDriverWait(driver, 10).until(\n",
    "        EC.presence_of_element_located((By.CLASS_NAME, \"comments\"))\n",
    "    )\n",
    "except:\n",
    "    driver.quit()\n"
   ]
  },
  {
   "cell_type": "code",
   "execution_count": 21,
   "metadata": {},
   "outputs": [
    {
     "name": "stdout",
     "output_type": "stream",
     "text": [
      "ithardin\n",
      "Cars&Bids\n",
      "Leviathan\n",
      "Fish2556\n",
      "ithardin\n",
      "AutoSourceGroup\n",
      "Cars&Bids\n",
      "theboatguy\n",
      "jaxology\n",
      "theboatguy\n",
      "theboatguy\n",
      "disraeli\n",
      "visceral11\n",
      "wrenching\n",
      "theboatguy\n",
      "theboatguy\n",
      "visceral11\n",
      "zmueller9\n",
      "Blubusdrvr\n",
      "AutoSourceGroup\n",
      "Rbri\n",
      "AutoSourceGroup\n",
      "pcarshop\n",
      "C4Restorations\n",
      "AutoSourceGroup\n",
      "AutoSourceGroup\n",
      "AutoSourceGroup\n",
      "moes\n",
      "azcardude\n",
      "Higher750\n",
      "jzcarr\n",
      "thefleshrocket\n",
      "jacked\n",
      "disraeli\n",
      "AutoAestheticWI\n",
      "AutoSourceGroup\n"
     ]
    }
   ],
   "source": [
    "thread = main.find_element(By.CLASS_NAME, 'thread')\n",
    "comments = thread.find_elements(By.CLASS_NAME, 'comment')\n",
    "for comment in comments:\n",
    "    #print(comment.text)\n",
    "    username = comment.find_element(By.CLASS_NAME, 'user')\n",
    "    print(username.text)\n"
   ]
  },
  {
   "cell_type": "code",
   "execution_count": 12,
   "metadata": {},
   "outputs": [
    {
     "name": "stdout",
     "output_type": "stream",
     "text": [
      "ithardin\n"
     ]
    }
   ],
   "source": [
    "print(username.text)"
   ]
  },
  {
   "cell_type": "code",
   "execution_count": null,
   "metadata": {},
   "outputs": [],
   "source": [
    "#test change"
   ]
  }
 ],
 "metadata": {
  "kernelspec": {
   "display_name": "Python 3.8.5 ('base')",
   "language": "python",
   "name": "python3"
  },
  "language_info": {
   "codemirror_mode": {
    "name": "ipython",
    "version": 3
   },
   "file_extension": ".py",
   "mimetype": "text/x-python",
   "name": "python",
   "nbconvert_exporter": "python",
   "pygments_lexer": "ipython3",
   "version": "3.8.5"
  },
  "orig_nbformat": 4,
  "vscode": {
   "interpreter": {
    "hash": "e03b612d84ba21ce95ed447e81b3062e1eb99b56c6d885cdab4aaa12f1b8e240"
   }
  }
 },
 "nbformat": 4,
 "nbformat_minor": 2
}
