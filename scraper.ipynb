{
 "cells": [
  {
   "cell_type": "code",
   "execution_count": 9,
   "metadata": {},
   "outputs": [],
   "source": [
    "import pandas as pd\n",
    "import numpy as np\n",
    "import xmltodict\n",
    "import requests\n",
    "from selenium.webdriver.common.keys import Keys\n",
    "from selenium.webdriver.common.by import By\n",
    "from selenium import webdriver\n",
    "from selenium.webdriver.chrome.service import Service as ChromeService\n",
    "from webdriver_manager.chrome import ChromeDriverManager\n",
    "from selenium.webdriver.support.ui import WebDriverWait\n",
    "from selenium.webdriver.support import expected_conditions as EC\n",
    "import time"
   ]
  },
  {
   "cell_type": "code",
   "execution_count": 25,
   "metadata": {},
   "outputs": [],
   "source": [
    "driver = webdriver.Chrome(service=ChromeService(ChromeDriverManager().install()))"
   ]
  },
  {
   "cell_type": "code",
   "execution_count": 26,
   "metadata": {},
   "outputs": [],
   "source": [
    "# Load the webpage\n",
    "driver.get(\"https://carsandbids.com/auctions/rxV7kL4j/2002-porsche-911-carrera-coupe\")"
   ]
  },
  {
   "cell_type": "code",
   "execution_count": 4,
   "metadata": {},
   "outputs": [
    {
     "name": "stdout",
     "output_type": "stream",
     "text": [
      "end of page reached\n"
     ]
    }
   ],
   "source": [
    "## retrieve Usernames of commenters ##\n",
    "# Scroll to bottom of page to dynamically load everything\n",
    "lenOfPage = driver.execute_script(\"window.scrollTo(0, document.body.scrollHeight);var lenOfPage=document.body.scrollHeight;return lenOfPage;\")\n",
    "match=False\n",
    "while(match==False):\n",
    "    lastCount = lenOfPage\n",
    "    time.sleep(3)\n",
    "    lenOfPage = driver.execute_script(\"window.scrollTo(0, document.body.scrollHeight);var lenOfPage=document.body.scrollHeight;return lenOfPage;\")\n",
    "    if lastCount==lenOfPage:\n",
    "        match=True\n",
    "time.sleep(3)\n",
    "\n",
    "# find load more comments button and click\n",
    "eop = False\n",
    "while(eop == False):\n",
    "    try:\n",
    "        load_more = WebDriverWait(driver, 10).until(\n",
    "            EC.presence_of_element_located((By.CLASS_NAME, \"load-more\"))\n",
    "        )\n",
    "    except:\n",
    "        # if no more to load, stop scrolling\n",
    "        print(\"end of page reached\")\n",
    "        eop = True\n",
    "    else:\n",
    "        # if more to load, click and scroll\n",
    "        load_more.click()\n",
    "        lenOfPage = driver.execute_script(\"window.scrollTo(0, document.body.scrollHeight);var lenOfPage=document.body.scrollHeight;return lenOfPage;\")\n",
    "        match=False\n",
    "        while(match==False):\n",
    "            lastCount = lenOfPage\n",
    "            time.sleep(3)\n",
    "            lenOfPage = driver.execute_script(\"window.scrollTo(0, document.body.scrollHeight);var lenOfPage=document.body.scrollHeight;return lenOfPage;\")\n",
    "            if lastCount==lenOfPage:\n",
    "                match=True\n",
    "        time.sleep(3)"
   ]
  },
  {
   "cell_type": "code",
   "execution_count": 7,
   "metadata": {},
   "outputs": [],
   "source": [
    "# Get comment section\n",
    "try:\n",
    "    main = WebDriverWait(driver, 10).until(\n",
    "        EC.presence_of_element_located((By.CLASS_NAME, \"comments\"))\n",
    "    )\n",
    "except:\n",
    "    driver.quit()\n",
    "\n",
    "# get comment thread\n",
    "thread = main.find_element(By.CLASS_NAME, 'thread')\n",
    "# get each element. could be comment, flagged comment, bid, etc.\n",
    "comments = thread.find_elements(By.XPATH, '*')\n",
    "# print user of each comment\n",
    "thread_df = pd.DataFrame(columns = ['position', 'user', 'comment', 'bid'])\n",
    "position = 1\n",
    "for comment in comments:\n",
    "    # get username\n",
    "    try:\n",
    "        username = comment.find_element(By.CLASS_NAME, 'user').text\n",
    "    except:\n",
    "        username = None\n",
    "    # get message\n",
    "    try: \n",
    "        message = comment.find_element(By.CLASS_NAME, 'message').text\n",
    "    except:\n",
    "        message = None\n",
    "    # get bid\n",
    "    try:\n",
    "        bid = comment.find_element(By.CLASS_NAME, 'bid-value').text\n",
    "    except:\n",
    "        bid = None\n",
    "    \n",
    "    thread_df.loc[len(thread_df.index)] = [position, username, message, bid] \n",
    "    position += 1\n"
   ]
  },
  {
   "cell_type": "code",
   "execution_count": 28,
   "metadata": {},
   "outputs": [],
   "source": [
    "head = driver.find_element(By.CLASS_NAME, 'auction-title')"
   ]
  },
  {
   "cell_type": "code",
   "execution_count": 8,
   "metadata": {},
   "outputs": [
    {
     "name": "stdout",
     "output_type": "stream",
     "text": [
      "    position              user  \\\n",
      "0          1       JohnnyRingo   \n",
      "1          2         CressiDuh   \n",
      "2          3  Stick_Shift_Nick   \n",
      "3          4          davidnyc   \n",
      "4          5           avrus96   \n",
      "..       ...               ...   \n",
      "117      118          msitayem   \n",
      "118      119    burtmacklinfbi   \n",
      "119      120          AndrewRS   \n",
      "120      121          AndrewRS   \n",
      "121      122          pootatoo   \n",
      "\n",
      "                                               comment     bid  \n",
      "0                   Re: davidnyc\\nThanks for the info.    None  \n",
      "1                                        Thank you all    None  \n",
      "2                     Great buy! Enjoy in good health!    None  \n",
      "3      Re: JohnnyRingo\\nChavis Performance Engineering    None  \n",
      "4      Congrats to @CressiDuh! I think you'll love it.    None  \n",
      "..                                                 ...     ...  \n",
      "117                                               None  $1,234  \n",
      "118  Impressive swap with what looks to be working ...    None  \n",
      "119  Re: pootatoo\\nI haven't had it on the dyno. I ...    None  \n",
      "120  I wanted to start out by saying if you aren't ...    None  \n",
      "121                        Dyno sheets? Whp estimates?    None  \n",
      "\n",
      "[122 rows x 4 columns]\n"
     ]
    }
   ],
   "source": [
    "print(thread_df)"
   ]
  },
  {
   "cell_type": "code",
   "execution_count": 13,
   "metadata": {},
   "outputs": [],
   "source": [
    "quick_facts = driver.find_element(By.CLASS_NAME, 'quick-facts')"
   ]
  },
  {
   "cell_type": "code",
   "execution_count": 23,
   "metadata": {},
   "outputs": [],
   "source": [
    "dl = quick_facts.find_element(By.XPATH, '//dl/dd[2]/a')"
   ]
  },
  {
   "cell_type": "code",
   "execution_count": 24,
   "metadata": {},
   "outputs": [
    {
     "data": {
      "text/plain": [
       "'911'"
      ]
     },
     "execution_count": 24,
     "metadata": {},
     "output_type": "execute_result"
    }
   ],
   "source": [
    "dl.text"
   ]
  },
  {
   "cell_type": "code",
   "execution_count": null,
   "metadata": {},
   "outputs": [],
   "source": []
  }
 ],
 "metadata": {
  "kernelspec": {
   "display_name": "Python 3.8.5 ('base')",
   "language": "python",
   "name": "python3"
  },
  "language_info": {
   "codemirror_mode": {
    "name": "ipython",
    "version": 3
   },
   "file_extension": ".py",
   "mimetype": "text/x-python",
   "name": "python",
   "nbconvert_exporter": "python",
   "pygments_lexer": "ipython3",
   "version": "3.8.5"
  },
  "orig_nbformat": 4,
  "vscode": {
   "interpreter": {
    "hash": "e03b612d84ba21ce95ed447e81b3062e1eb99b56c6d885cdab4aaa12f1b8e240"
   }
  }
 },
 "nbformat": 4,
 "nbformat_minor": 2
}
